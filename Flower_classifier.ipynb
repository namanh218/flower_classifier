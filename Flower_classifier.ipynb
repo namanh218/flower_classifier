{
  "nbformat": 4,
  "nbformat_minor": 0,
  "metadata": {
    "colab": {
      "name": "Flower_classifier.ipynb",
      "provenance": [],
      "collapsed_sections": []
    },
    "kernelspec": {
      "name": "python3",
      "display_name": "Python 3"
    },
    "accelerator": "GPU"
  },
  "cells": [
    {
      "cell_type": "code",
      "metadata": {
        "id": "BpGk8gjkFKpM",
        "colab_type": "code",
        "colab": {}
      },
      "source": [
        "import tensorflow as tf\n",
        "import shutil # copy, move file\n",
        "import os # miscellaneous operation system interfaces\n",
        "import pathlib\n",
        "import random"
      ],
      "execution_count": 0,
      "outputs": []
    },
    {
      "cell_type": "code",
      "metadata": {
        "id": "VjXi_te4FRzf",
        "colab_type": "code",
        "colab": {}
      },
      "source": [
        "!python3 -m pip install tensorflow==2.0.0"
      ],
      "execution_count": 0,
      "outputs": []
    },
    {
      "cell_type": "code",
      "metadata": {
        "id": "lfjv8YE_Fb5E",
        "colab_type": "code",
        "colab": {}
      },
      "source": [
        "from __future__ import absolute_import, division, print_function, unicode_literals\n",
        "\n",
        "# Install TensorFlow\n",
        "try:\n",
        "  # %tensorflow_version only exists in Colab.\n",
        "  %tensorflow_version 2.x\n",
        "except Exception:\n",
        "  pass\n",
        "\n",
        "import tensorflow as tf\n",
        "print(tf.__version__)\n",
        "print(tf.test.is_gpu_available())"
      ],
      "execution_count": 0,
      "outputs": []
    },
    {
      "cell_type": "code",
      "metadata": {
        "id": "0pq4bbymF5sp",
        "colab_type": "code",
        "colab": {}
      },
      "source": [
        "import pathlib\n",
        "data_root_orig = tf.keras.utils.get_file(origin='https://storage.googleapis.com/download.tensorflow.org/example_images/flower_photos.tgz',\n",
        "                                         fname='flower_photos', untar=True)\n",
        "data_root = pathlib.Path(data_root_orig)"
      ],
      "execution_count": 0,
      "outputs": []
    },
    {
      "cell_type": "code",
      "metadata": {
        "id": "uDFvS-IyGG9h",
        "colab_type": "code",
        "colab": {}
      },
      "source": [
        "import random\n",
        "all_image_paths = list(data_root.glob('*/*'))\n",
        "all_image_paths = [str(path) for path in all_image_paths]\n",
        "random.shuffle(all_image_paths)\n",
        "\n",
        "image_count = len(all_image_paths)\n",
        "image_count"
      ],
      "execution_count": 0,
      "outputs": []
    },
    {
      "cell_type": "code",
      "metadata": {
        "id": "JvHzsrD_Uq2l",
        "colab_type": "code",
        "colab": {}
      },
      "source": [
        "!rm -rf ./data/train/sunflowers ./data/train/tulips ./data/train/daisy ./data/train/dandelion ./data/train/roses  ./data/test/sunflowers ./data/test/tulips ./data/test/daisy ./data/test/dandelion ./data/test/roses"
      ],
      "execution_count": 0,
      "outputs": []
    },
    {
      "cell_type": "code",
      "metadata": {
        "id": "szVHdD-lGKbJ",
        "colab_type": "code",
        "colab": {}
      },
      "source": [
        "!mkdir ./data ./data/raw ./data/train ./data/test \n",
        "!mkdir ./data/train/sunflowers ./data/train/tulips ./data/train/daisy ./data/train/dandelion ./data/train/roses  ./data/test/sunflowers ./data/test/tulips ./data/test/daisy ./data/test/dandelion ./data/test/roses"
      ],
      "execution_count": 0,
      "outputs": []
    },
    {
      "cell_type": "code",
      "metadata": {
        "id": "TVm8zRpESeoa",
        "colab_type": "code",
        "colab": {}
      },
      "source": [
        "!mv /root/.keras/datasets/flower_photos/* /content/data/raw"
      ],
      "execution_count": 0,
      "outputs": []
    },
    {
      "cell_type": "code",
      "metadata": {
        "id": "YjabUflJSpjx",
        "colab_type": "code",
        "colab": {}
      },
      "source": [
        "!rm /content/data/raw/LICENSE.txt"
      ],
      "execution_count": 0,
      "outputs": []
    },
    {
      "cell_type": "code",
      "metadata": {
        "id": "5UYkCAX6GXSN",
        "colab_type": "code",
        "colab": {}
      },
      "source": [
        "DATA_RAW_FOLDER = \"./data/raw\"\n",
        "DATA_TRAIN_FOLDER = \"./data/train\"\n",
        "DATA_TEST_FOLDER = \"./data/test\""
      ],
      "execution_count": 0,
      "outputs": []
    },
    {
      "cell_type": "code",
      "metadata": {
        "id": "n1AjguT3Z6wK",
        "colab_type": "code",
        "colab": {}
      },
      "source": [
        "!ls data/raw/*/* -1q | wc -l"
      ],
      "execution_count": 0,
      "outputs": []
    },
    {
      "cell_type": "code",
      "metadata": {
        "id": "6patncKxI_UE",
        "colab_type": "code",
        "colab": {}
      },
      "source": [
        "list_flowers = ['daisy', 'roses', 'sunflowers', 'dandelion', 'tulips']\n",
        "list_data = []\n",
        "sum = 0\n",
        "for name in list_flowers:\n",
        "  list_data.append(pathlib.Path(os.path.join(DATA_RAW_FOLDER, name)))\n",
        "\n",
        "list_image = {'daisy': [],\n",
        "              'roses': [], \n",
        "              'sunflowers': [], \n",
        "              'dandelion': [], \n",
        "              'tulips': []}\n",
        "\n",
        "num_list = len(list_flowers)\n",
        "\n",
        "for i in range(num_list):\n",
        "  for item in list_data[i].glob('*'):\n",
        "    name = str(item).split('/')[-2]\n",
        "    list_image.get(name).append(item)\n",
        "    sum += 1    \n",
        "\n",
        "assert sum == 3670\n",
        "n_sample = 1000\n",
        "test_size = 0.2\n",
        "\n",
        "for key, values in list_image.items():\n",
        "  test_sample = random.sample(values, n_sample//5)\n",
        "  for i in range(n_sample//5):\n",
        "    if i < (n_sample * test_size // 5):\n",
        "      shutil.copy(test_sample[i], os.path.join(DATA_TEST_FOLDER, key))\n",
        "    else:\n",
        "      shutil.copy(test_sample[i], os.path.join(DATA_TRAIN_FOLDER, key))"
      ],
      "execution_count": 0,
      "outputs": []
    },
    {
      "cell_type": "code",
      "metadata": {
        "id": "-f68imjFaf3o",
        "colab_type": "code",
        "colab": {}
      },
      "source": [
        "!ls -1q ./data/train/*/* | wc -l\n",
        "!ls -1q ./data/test/*/* | wc -l"
      ],
      "execution_count": 0,
      "outputs": []
    },
    {
      "cell_type": "code",
      "metadata": {
        "id": "WJYqM49qgIUk",
        "colab_type": "code",
        "colab": {}
      },
      "source": [
        "import tensorflow as tf\n",
        "from tensorflow.keras.preprocessing.image import ImageDataGenerator\n",
        "from tensorflow.keras.models import Model\n",
        "from tensorflow.keras.layers import Input, Flatten, Dense, Dropout, GlobalAveragePooling2D\n",
        "from tensorflow.keras.applications.mobilenet import MobileNet, preprocess_input\n",
        "import math\n",
        "import numpy as np\n",
        "import pandas as pd\n",
        "import matplotlib\n",
        "import matplotlib.pyplot as plt\n",
        "import matplotlib.image as mpimg"
      ],
      "execution_count": 0,
      "outputs": []
    },
    {
      "cell_type": "code",
      "metadata": {
        "id": "_t1tm59DgRry",
        "colab_type": "code",
        "colab": {}
      },
      "source": [
        "\n",
        "TRAIN_DATA_DIR = './data/train/'\n",
        "VALIDATION_DATA_DIR = './data/test/'\n",
        "TRAIN_SAMPLES = 800\n",
        "VALIDATION_SAMPLES = 200\n",
        "NUM_CLASSES = 5\n",
        "IMG_WIDTH, IMG_HEIGHT = 224, 224\n",
        "BATCH_SIZE = 64"
      ],
      "execution_count": 0,
      "outputs": []
    },
    {
      "cell_type": "code",
      "metadata": {
        "id": "LTIRukVsgbfU",
        "colab_type": "code",
        "colab": {}
      },
      "source": [
        "train_datagen = ImageDataGenerator(preprocessing_function=preprocess_input,\n",
        "                                   rotation_range=20,\n",
        "                                   width_shift_range=0.2,\n",
        "                                   height_shift_range=0.2,\n",
        "                                   zoom_range=0.2)\n",
        "val_datagen = ImageDataGenerator(preprocessing_function=preprocess_input)"
      ],
      "execution_count": 0,
      "outputs": []
    },
    {
      "cell_type": "code",
      "metadata": {
        "id": "dB_gm1MChSUD",
        "colab_type": "code",
        "colab": {}
      },
      "source": [
        "train_generator = train_datagen.flow_from_directory(\n",
        "                        TRAIN_DATA_DIR,\n",
        "                        target_size=(IMG_WIDTH, IMG_HEIGHT),\n",
        "                        batch_size=BATCH_SIZE,\n",
        "                        shuffle=True,\n",
        "                        seed=102,\n",
        "                        class_mode='categorical')\n",
        "validation_generator = val_datagen.flow_from_directory(\n",
        "                        VALIDATION_DATA_DIR,\n",
        "                        target_size=(IMG_WIDTH, IMG_HEIGHT),\n",
        "                        batch_size=BATCH_SIZE,\n",
        "                        shuffle=False,\n",
        "                        class_mode='categorical')"
      ],
      "execution_count": 0,
      "outputs": []
    },
    {
      "cell_type": "code",
      "metadata": {
        "id": "Lr3yPyPMhXqH",
        "colab_type": "code",
        "colab": {}
      },
      "source": [
        "def model_maker():\n",
        "    base_model = MobileNet(include_top=False, input_shape = (IMG_WIDTH,IMG_HEIGHT,3))\n",
        "    for layer in base_model.layers[:]:\n",
        "        layer.trainable = False # Freeze the layers\n",
        "    input = Input(shape=(IMG_WIDTH, IMG_HEIGHT, 3))\n",
        "    custom_model = base_model(input)\n",
        "    custom_model = GlobalAveragePooling2D()(custom_model)\n",
        "    custom_model = Dense(64, activation='relu')(custom_model)\n",
        "    custom_model = Dropout(0.5)(custom_model)\n",
        "    predictions = Dense(NUM_CLASSES, activation='softmax')(custom_model)\n",
        "    \n",
        "    return Model(inputs=input, outputs=predictions)"
      ],
      "execution_count": 0,
      "outputs": []
    },
    {
      "cell_type": "code",
      "metadata": {
        "id": "IO6eV6MShb3c",
        "colab_type": "code",
        "colab": {}
      },
      "source": [
        "model = model_maker()\n",
        "model.compile(loss='categorical_crossentropy',\n",
        "              optimizer= tf.keras.optimizers.Adam(lr=0.001),\n",
        "              metrics=['acc'])\n",
        "num_steps = math.ceil(float(TRAIN_SAMPLES)/BATCH_SIZE)              \n",
        "model.fit_generator(train_generator,\n",
        "          steps_per_epoch = num_steps,\n",
        "          epochs=10,\n",
        "          validation_data = validation_generator,\n",
        "          validation_steps = num_steps)"
      ],
      "execution_count": 0,
      "outputs": []
    }
  ]
}